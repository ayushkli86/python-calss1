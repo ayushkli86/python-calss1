{
 "cells": [
  {
   "cell_type": "code",
   "execution_count": null,
   "id": "57333ea2",
   "metadata": {},
   "outputs": [],
   "source": [
    "print(\"2\"+\"2\")\n",
    "print(2+2)\n",
    "print(\"2\"+2)\n"
   ]
  },
  {
   "cell_type": "code",
   "execution_count": 13,
   "id": "8189859e",
   "metadata": {},
   "outputs": [
    {
     "name": "stdout",
     "output_type": "stream",
     "text": [
      "'aayush'\n"
     ]
    },
    {
     "data": {
      "text/plain": [
       "str"
      ]
     },
     "execution_count": 13,
     "metadata": {},
     "output_type": "execute_result"
    }
   ],
   "source": [
    "a = \"'aayush'\"\n",
    "print(a)\n",
    "type(a)"
   ]
  },
  {
   "cell_type": "code",
   "execution_count": 27,
   "id": "99a919b3",
   "metadata": {},
   "outputs": [
    {
     "name": "stdout",
     "output_type": "stream",
     "text": [
      "ayush \n",
      " 20 \n",
      " 230108\n"
     ]
    }
   ],
   "source": [
    "\n",
    "name=\"ayush\"\n",
    "age=20\n",
    "rollno =230108\n",
    "print(name,\"\\n\",20,\"\\n\",rollno)\n",
    "\n"
   ]
  },
  {
   "cell_type": "code",
   "execution_count": 28,
   "id": "2d12ed52",
   "metadata": {},
   "outputs": [
    {
     "name": "stdout",
     "output_type": "stream",
     "text": [
      "10 20 30\n"
     ]
    }
   ],
   "source": [
    "a,b,c = 10,20,30\n",
    "print(a,b,c)"
   ]
  },
  {
   "cell_type": "code",
   "execution_count": 34,
   "id": "58489977",
   "metadata": {},
   "outputs": [
    {
     "name": "stdout",
     "output_type": "stream",
     "text": [
      "4.0\n",
      "<built-in method conjugate of complex object at 0x0000017C39449F30>\n"
     ]
    }
   ],
   "source": [
    "x=2+3j\n",
    "y=2+2j\n",
    "print(x.real+y.real)\n",
    "print(x.conjugate)"
   ]
  },
  {
   "cell_type": "code",
   "execution_count": null,
   "id": "6f744774",
   "metadata": {},
   "outputs": [
    {
     "name": "stdout",
     "output_type": "stream",
     "text": [
      "16\n"
     ]
    }
   ],
   "source": [
    "a=input(\"please input your name \")\n",
    "type(a)\n",
    "b= int(a)\n",
    "if b > 18:\n",
    "    print(\"eligible\")"
   ]
  },
  {
   "cell_type": "code",
   "execution_count": null,
   "id": "d7d794dd",
   "metadata": {},
   "outputs": [
    {
     "name": "stdout",
     "output_type": "stream",
     "text": [
      "ayush\n"
     ]
    }
   ],
   "source": [
    "a=\"ayush\"\n",
    "print(a)\n"
   ]
  },
  {
   "cell_type": "code",
   "execution_count": null,
   "id": "37f6f6ea",
   "metadata": {},
   "outputs": [],
   "source": [
    "\n",
    "\n",
    "print(\"hello world\\n\"*100)\n"
   ]
  },
  {
   "cell_type": "code",
   "execution_count": null,
   "id": "cc861e43",
   "metadata": {},
   "outputs": [],
   "source": []
  }
 ],
 "metadata": {
  "kernelspec": {
   "display_name": "Python 3",
   "language": "python",
   "name": "python3"
  },
  "language_info": {
   "codemirror_mode": {
    "name": "ipython",
    "version": 3
   },
   "file_extension": ".py",
   "mimetype": "text/x-python",
   "name": "python",
   "nbconvert_exporter": "python",
   "pygments_lexer": "ipython3",
   "version": "3.13.4"
  }
 },
 "nbformat": 4,
 "nbformat_minor": 5
}
