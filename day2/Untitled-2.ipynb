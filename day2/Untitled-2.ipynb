{
 "cells": [
  {
   "cell_type": "code",
   "execution_count": 11,
   "id": "34dff65f",
   "metadata": {},
   "outputs": [
    {
     "name": "stdout",
     "output_type": "stream",
     "text": [
      "['apple', 'mango', 'banana', 'coconut']\n",
      "coconut\n",
      "['apple', 'mango', 'banana']\n",
      "['apple', 'coconut']\n",
      "['__add__', '__class__', '__class_getitem__', '__contains__', '__delattr__', '__delitem__', '__dir__', '__doc__', '__eq__', '__format__', '__ge__', '__getattribute__', '__getitem__', '__getstate__', '__gt__', '__hash__', '__iadd__', '__imul__', '__init__', '__init_subclass__', '__iter__', '__le__', '__len__', '__lt__', '__mul__', '__ne__', '__new__', '__reduce__', '__reduce_ex__', '__repr__', '__reversed__', '__rmul__', '__setattr__', '__setitem__', '__sizeof__', '__str__', '__subclasshook__', 'append', 'clear', 'copy', 'count', 'extend', 'index', 'insert', 'pop', 'remove', 'reverse', 'sort']\n",
      "4\n"
     ]
    }
   ],
   "source": [
    "fruits=[\"apple\",\"mango\",\"banana\",\"coconut\"]\n",
    "print(fruits)\n",
    "print(fruits[3])\n",
    "print(fruits[0:3])\n",
    "print(fruits[::3])\n",
    "print(dir(fruits))\n",
    "print(len(fruits))\n",
    "\n",
    "fruits.append(\"apple\")\n",
    "fruits.remove(\"apple\")\n",
    "fruits.pop(1)\n",
    "fruits.insert(1,\"pineapple\")\n",
    "\n",
    "\n"
   ]
  },
  {
   "cell_type": "code",
   "execution_count": null,
   "id": "d134f993",
   "metadata": {},
   "outputs": [
    {
     "name": "stdout",
     "output_type": "stream",
     "text": [
      "['apple', 'mango', 'banana', 'coconut', 'apple']\n",
      "['mango', 'banana', 'coconut', 'apple']\n",
      "['mango', 'pineapple', 'coconut', 'apple']\n",
      "['mango', 'pineapple', 'coconut', 'apple']\n"
     ]
    }
   ],
   "source": [
    "\n",
    "fruits=[\"apple\",\"mango\",\"banana\",\"coconut\"]\n",
    "\n",
    "fruits.append(\"apple\")\n",
    "print(fruits)\n",
    "fruits.remove(\"apple\")\n",
    "print(fruits)\n",
    "fruits.pop(1)\n",
    "fruits.insert(1,\"pineapple\")\n",
    "print(fruits)\n",
    "print(fruits)\n",
    "fruits.sort()\n",
    "fruits.clear()\n",
    "print(fruits.index(\"coconut\"))\n",
    "\n",
    "\n",
    "\n"
   ]
  },
  {
   "cell_type": "code",
   "execution_count": 18,
   "id": "187201f7",
   "metadata": {},
   "outputs": [
    {
     "name": "stdout",
     "output_type": "stream",
     "text": [
      "True\n",
      "True\n",
      "False\n",
      "True\n"
     ]
    }
   ],
   "source": [
    "list1= [1,2,3,[4,5]]\n",
    "print(1 in list1)\n",
    "print([4,5] in list1)\n",
    "print(4 in list1)\n",
    "print(4 in list1[3])"
   ]
  },
  {
   "cell_type": "code",
   "execution_count": 21,
   "id": "7e5e600b",
   "metadata": {},
   "outputs": [
    {
     "name": "stdout",
     "output_type": "stream",
     "text": [
      "[4, 5, [6, 7, 8], 9]\n",
      "[6, 7, 8]\n",
      "7\n"
     ]
    }
   ],
   "source": [
    "list=[1,2,3,[4,5,[6,7,8],9]]\n",
    "print(list[3])\n",
    "print(list[3][2])\n",
    "print(list[3][2][1])"
   ]
  },
  {
   "cell_type": "code",
   "execution_count": null,
   "id": "9d3e932e",
   "metadata": {},
   "outputs": [
    {
     "name": "stdout",
     "output_type": "stream",
     "text": [
      "[1, 8, 27, 64, 125]\n"
     ]
    }
   ],
   "source": [
    "squares =[x**2 for x in range(1,6)]\n",
    "print(squares)"
   ]
  },
  {
   "cell_type": "code",
   "execution_count": null,
   "id": "509261c5",
   "metadata": {},
   "outputs": [
    {
     "name": "stdout",
     "output_type": "stream",
     "text": [
      "['APPLE', 'BANANA', 'CHERRY', 'POTATO', 'RONISH THE LOVER BOY']\n"
     ]
    }
   ],
   "source": [
    "words=['apple','banana','cherry',\"potato\",\"ronish the lover boy\"]\n",
    "uppercased =[word.upper() for word in words]\n",
    "print(uppercased)"
   ]
  },
  {
   "cell_type": "code",
   "execution_count": 32,
   "id": "c5a165eb",
   "metadata": {},
   "outputs": [
    {
     "name": "stdout",
     "output_type": "stream",
     "text": [
      "['__add__', '__class__', '__class_getitem__', '__contains__', '__delattr__', '__delitem__', '__dir__', '__doc__', '__eq__', '__format__', '__ge__', '__getattribute__', '__getitem__', '__getstate__', '__gt__', '__hash__', '__iadd__', '__imul__', '__init__', '__init_subclass__', '__iter__', '__le__', '__len__', '__lt__', '__mul__', '__ne__', '__new__', '__reduce__', '__reduce_ex__', '__repr__', '__reversed__', '__rmul__', '__setattr__', '__setitem__', '__sizeof__', '__str__', '__subclasshook__', 'append', 'clear', 'copy', 'count', 'extend', 'index', 'insert', 'pop', 'remove', 'reverse', 'sort']\n",
      "apple\n",
      "['apple', 'apple', 'banana', 'cherry', 'potato', 'ronish the lover boy', 'ronish ki aankh']\n"
     ]
    }
   ],
   "source": [
    "words=['apple',\"apple\",'banana','cherry',\"potato\",\"ronish the lover boy\",\"ronish ki aankh\"]\n",
    "print(dir(words))\n",
    "print(words[1])\n",
    "print(words)"
   ]
  },
  {
   "cell_type": "code",
   "execution_count": 42,
   "id": "4440778e",
   "metadata": {},
   "outputs": [
    {
     "name": "stdout",
     "output_type": "stream",
     "text": [
      "{'ronish', 'janaka', 'ayush'}\n",
      "{'janaka', 'ay', 'ayush'}\n"
     ]
    }
   ],
   "source": [
    "item1 ={\"ayush\",\"ronish\",\"janaka\"}\n",
    "item2={\"a\",\"b\",\"c\"}\n",
    "item3={\"d\",\"e\",\"f\"}\n",
    "\n",
    "#item1.remove(\"ayush\")\n",
    "print(item1)\n",
    "item1.add(\"ay\")\n",
    "item1.discard(\"ronish\")\n",
    "print(item1)"
   ]
  },
  {
   "cell_type": "code",
   "execution_count": 51,
   "id": "d8f9a3c5",
   "metadata": {},
   "outputs": [
    {
     "name": "stdout",
     "output_type": "stream",
     "text": [
      "('apple', 'mango', 'pineapple', 'cherry', 'watermelon', 'orange')\n"
     ]
    }
   ],
   "source": [
    "Tuple=(\"apple\",\"mango\",\"pineapple\",\"cherry\",\"watermelon\") \n",
    "yo=(\"orange\",)\n",
    "type(tuple)\n",
    "Tuple+=yo\n",
    "print(Tuple)"
   ]
  },
  {
   "cell_type": "code",
   "execution_count": 68,
   "id": "4f65f7fa",
   "metadata": {},
   "outputs": [
    {
     "name": "stdout",
     "output_type": "stream",
     "text": [
      "apple\n",
      "banana\n",
      "['cherry', 'monkey', 'ladkipagluthe ronish']\n"
     ]
    }
   ],
   "source": [
    "fruits=('apple','banana',\"cherry\",\"monkey\",\"ladkipaglutheronish\")\n",
    "#(green,yellow,red)= fruits\n",
    "print(green)\n",
    "print(yellow)\n",
    "print(red)\n",
    "(green,yellow,*red)= fruits\n",
    "\n",
    "\n"
   ]
  },
  {
   "cell_type": "code",
   "execution_count": 72,
   "id": "9423b9c1",
   "metadata": {},
   "outputs": [
    {
     "name": "stdout",
     "output_type": "stream",
     "text": [
      "['a', 'y', 'u', 's', 'h']\n"
     ]
    }
   ],
   "source": [
    "str =\"ayush\"\n",
    "a =[q for q in str]\n",
    "print(a)"
   ]
  },
  {
   "cell_type": "code",
   "execution_count": 75,
   "id": "607ca7c0",
   "metadata": {},
   "outputs": [
    {
     "name": "stdout",
     "output_type": "stream",
     "text": [
      "[1, 'hello', 3.14, True] (1, 'hello', 3.14, True) {'hello', 1, 3.14}\n"
     ]
    }
   ],
   "source": [
    "list = [1,\"hello\",3.14,True]\n",
    "tuple =(1,\"hello\",3.14,True)\n",
    "set = {1,\"hello\",3.14,True}\n",
    "print(list,tuple,set)"
   ]
  },
  {
   "cell_type": "code",
   "execution_count": 92,
   "id": "3da23ee0",
   "metadata": {},
   "outputs": [
    {
     "name": "stdout",
     "output_type": "stream",
     "text": [
      "there is\n"
     ]
    }
   ],
   "source": [
    "list= ['apple','america','ayush','ss']\n",
    "i = 0\n",
    "while i<len(list):\n",
    "    if list[i]==\"apple\" :\n",
    "        print(\"there is\")\n",
    "    i = i+1\n",
    "    \n"
   ]
  },
  {
   "cell_type": "code",
   "execution_count": 99,
   "id": "36336f5a",
   "metadata": {},
   "outputs": [
    {
     "name": "stdout",
     "output_type": "stream",
     "text": [
      "20\n",
      "20\n",
      "{'name': 'ronishnigga', 'age': 20, 'city': 'london', 'courses': 'single'}\n"
     ]
    }
   ],
   "source": [
    "student ={\n",
    "\n",
    "    1:\"first\",\n",
    "    \"name\":\"ronishpaglu\",\n",
    "    \"age\":20,\n",
    "    \"courses\":[\"MLBB\",\"INSTAGRAM\",\"GOTH\"]\n",
    "\n",
    "}\n",
    "print(student[\"age\"])\n",
    "print(student.get(\"age\"))\n",
    "#print(dir(data))\n",
    "student1 =dict(name=\"ronishnigga\",age= 20,city =\"london\",courses=\"single\")\n",
    "print(student1)\n"
   ]
  },
  {
   "cell_type": "code",
   "execution_count": null,
   "id": "84a7e506",
   "metadata": {},
   "outputs": [
    {
     "name": "stdout",
     "output_type": "stream",
     "text": [
      "{1: 'first', 'name': 'ronishpaglu', 'courses': ['MLBB', 'INSTAGRAM', 'GOTH'], 'job': 'nigga', 'age': 20}\n",
      "{1: 'first', 'name': 'ronishpaglu', 'courses': ['MLBB', 'INSTAGRAM', 'GOTH'], 'job': 'nigga'}\n",
      "name does not exists\n",
      "1\n",
      "name\n",
      "courses\n",
      "job\n",
      "first\n",
      "ronishpaglu\n",
      "['MLBB', 'INSTAGRAM', 'GOTH']\n",
      "nigga\n",
      "1 first\n",
      "name ronishpaglu\n",
      "courses ['MLBB', 'INSTAGRAM', 'GOTH']\n",
      "job nigga\n"
     ]
    }
   ],
   "source": [
    "student[\"job\"] =\"nigga\"\n",
    "student[\"age\"]= 20\n",
    "print(student)\n",
    "del student[\"age\"]\n",
    "print(student)\n",
    "\n",
    "if \"ronishnigga\" in student.values():\n",
    "    print(\"name exists\")\n",
    "else:\n",
    "    print(\"name does not exists\")\n",
    "\n",
    "for key in student:\n",
    "    print(key)\n",
    "\n",
    "for value in student.values():\n",
    "    print(value)\n",
    "for key,value  in student.items():\n",
    "    print(key,value)\n",
    "\n",
    "\n",
    "\n",
    "git branch\n"
   ]
  },
  {
   "cell_type": "code",
   "execution_count": null,
   "id": "7662d64f",
   "metadata": {},
   "outputs": [],
   "source": []
  }
 ],
 "metadata": {
  "kernelspec": {
   "display_name": "Python 3",
   "language": "python",
   "name": "python3"
  },
  "language_info": {
   "codemirror_mode": {
    "name": "ipython",
    "version": 3
   },
   "file_extension": ".py",
   "mimetype": "text/x-python",
   "name": "python",
   "nbconvert_exporter": "python",
   "pygments_lexer": "ipython3",
   "version": "3.13.4"
  }
 },
 "nbformat": 4,
 "nbformat_minor": 5
}
